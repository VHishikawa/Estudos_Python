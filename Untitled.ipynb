{
 "cells": [
  {
   "cell_type": "markdown",
   "id": "ae181542",
   "metadata": {},
   "source": [
    "0 1 2 3 4 5 6 7 8 9 10 11 12 13 14 15 16 17 18\n",
    "h i s h i k a w a @  g  m  a  i  l  .  c  o  m"
   ]
  },
  {
   "cell_type": "code",
   "execution_count": 1,
   "id": "af6472c4",
   "metadata": {},
   "outputs": [
    {
     "name": "stdout",
     "output_type": "stream",
     "text": [
      "19\n"
     ]
    }
   ],
   "source": [
    "email = 'hishikawa@gmail.com'\n",
    "nome = 'Victor Hishikawa'\n",
    "\n",
    "print(len(email))"
   ]
  },
  {
   "cell_type": "code",
   "execution_count": null,
   "id": "5f95bb67",
   "metadata": {},
   "outputs": [],
   "source": []
  }
 ],
 "metadata": {
  "kernelspec": {
   "display_name": "Python 3 (ipykernel)",
   "language": "python",
   "name": "python3"
  },
  "language_info": {
   "codemirror_mode": {
    "name": "ipython",
    "version": 3
   },
   "file_extension": ".py",
   "mimetype": "text/x-python",
   "name": "python",
   "nbconvert_exporter": "python",
   "pygments_lexer": "ipython3",
   "version": "3.9.12"
  }
 },
 "nbformat": 4,
 "nbformat_minor": 5
}
