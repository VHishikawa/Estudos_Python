{
 "cells": [
  {
   "cell_type": "markdown",
   "id": "40149519",
   "metadata": {},
   "source": [
    "CONCATENAR"
   ]
  },
  {
   "cell_type": "code",
   "execution_count": 2,
   "id": "b6a91a1a",
   "metadata": {},
   "outputs": [
    {
     "name": "stdout",
     "output_type": "stream",
     "text": [
      "Meu nome é Victor\n"
     ]
    }
   ],
   "source": [
    "print(\"Meu nome é \" + \"Victor\")"
   ]
  },
  {
   "cell_type": "markdown",
   "id": "7b60eb85",
   "metadata": {},
   "source": [
    "IN"
   ]
  },
  {
   "cell_type": "code",
   "execution_count": 3,
   "id": "6716401f",
   "metadata": {},
   "outputs": [
    {
     "name": "stdout",
     "output_type": "stream",
     "text": [
      "True\n"
     ]
    }
   ],
   "source": [
    "print(\"V\" in \"Victor\")"
   ]
  }
 ],
 "metadata": {
  "kernelspec": {
   "display_name": "Python 3 (ipykernel)",
   "language": "python",
   "name": "python3"
  },
  "language_info": {
   "codemirror_mode": {
    "name": "ipython",
    "version": 3
   },
   "file_extension": ".py",
   "mimetype": "text/x-python",
   "name": "python",
   "nbconvert_exporter": "python",
   "pygments_lexer": "ipython3",
   "version": "3.9.12"
  }
 },
 "nbformat": 4,
 "nbformat_minor": 5
}
